{
 "cells": [
  {
   "cell_type": "markdown",
   "id": "b143577f-df4e-44f3-95d5-18e71b91f756",
   "metadata": {},
   "source": [
    "<h2 style=\"text-align: center;\">\n",
    "    <a href=https://developer.spotify.com/documentation/web-api/reference/search> Search </a>\n",
    "</h2>\n",
    "\n",
    "We have to begin our traversal of the API using this (collection of) endpoint(s). This will apply to \n",
    "```\n",
    "\"album\", \"artist\", \"playlist\", \"track\", \"show\", \"episode\", \"audiobook\"\n",
    "```\n",
    "\n",
    "and potentially even users."
   ]
  },
  {
   "cell_type": "code",
   "execution_count": 4,
   "id": "68fcaeed-6e30-49b4-b9a5-00161e59cdba",
   "metadata": {},
   "outputs": [],
   "source": [
    "import requests"
   ]
  },
  {
   "cell_type": "code",
   "execution_count": 1,
   "id": "bc12e482-ade6-4e0d-a597-1e555b2817fa",
   "metadata": {},
   "outputs": [],
   "source": [
    "from spotify_auth import SpotifyAuth"
   ]
  },
  {
   "cell_type": "code",
   "execution_count": 5,
   "id": "0f0bbdc2-574b-4c19-bca5-7ac7cddba129",
   "metadata": {},
   "outputs": [],
   "source": [
    "auth = SpotifyAuth()"
   ]
  },
  {
   "cell_type": "code",
   "execution_count": 6,
   "id": "1bc0f98e-9540-4935-84da-7b993fdb2924",
   "metadata": {},
   "outputs": [],
   "source": [
    "access_token = auth.get_token()"
   ]
  },
  {
   "cell_type": "markdown",
   "id": "22211727-cb6b-4b1e-ab4c-46ac320bd17b",
   "metadata": {},
   "source": [
    "<h3 align=center> Actual Query </h3>"
   ]
  },
  {
   "cell_type": "code",
   "execution_count": 26,
   "id": "d1bbaa7e-0a04-4b0e-a2f3-0fe8e61fa3a5",
   "metadata": {},
   "outputs": [],
   "source": [
    "headers = {\n",
    "    'Authorization': f\"Bearer {access_token}\",\n",
    "    'Content-Type': 'application/x-www-form-urlencoded'\n",
    "}"
   ]
  },
  {
   "cell_type": "code",
   "execution_count": 27,
   "id": "a3d8f2aa-19d7-4503-bd9d-7bdc966f2766",
   "metadata": {},
   "outputs": [],
   "source": [
    "params = {\n",
    "    \"q\": \"Let%Me%Love%You\",\n",
    "    \"type\": \"track\",\n",
    "    \"limit\": 10\n",
    "}"
   ]
  },
  {
   "cell_type": "code",
   "execution_count": null,
   "id": "d04fdad6-2414-46e5-9ca9-7969ed1ff3d0",
   "metadata": {
    "scrolled": true
   },
   "outputs": [],
   "source": [
    "r = requests.get('https://api.spotify.com/v1/search', headers=headers, params=params)"
   ]
  },
  {
   "cell_type": "code",
   "execution_count": null,
   "id": "26946d2c-8da2-423d-9129-70f26f9d3888",
   "metadata": {
    "scrolled": true
   },
   "outputs": [],
   "source": [
    "if r.status_code == 200:\n",
    "    r_obj = r.json()\n",
    "    # print(r.json())\n",
    "else:\n",
    "    print(r.text)\n",
    "    r.raise_for_status()"
   ]
  },
  {
   "cell_type": "code",
   "execution_count": 55,
   "id": "5a11df9b-d9e4-4ca1-ac7b-959b5e301b59",
   "metadata": {
    "scrolled": true
   },
   "outputs": [
    {
     "name": "stdout",
     "output_type": "stream",
     "text": [
      "Artist:  Mario Song: \t {'spotify': 'https://open.spotify.com/artist/20s0P9QLxGqKuCsGwFsp7w'}\n",
      "Artist:  Kendrick Lamar Song: \t {'spotify': 'https://open.spotify.com/artist/2YZyLoL8N0Wb9xBt1NhZWg'}\n",
      "Artist:  Nikita Kering' Song: \t {'spotify': 'https://open.spotify.com/artist/1yQKzWOHXJQSEnOXrHDl4X'}\n",
      "Artist:  Kemena Song: \t {'spotify': 'https://open.spotify.com/artist/0SGTAjot9GShYwCQ69DfG2'}\n",
      "Artist:  Ne-Yo Song: \t {'spotify': 'https://open.spotify.com/artist/21E3waRsmPlU7jZsS13rcj'}\n",
      "Artist:  Kendrick Lamar Song: \t {'spotify': 'https://open.spotify.com/artist/2YZyLoL8N0Wb9xBt1NhZWg'}\n",
      "Artist:  SZA Song: \t {'spotify': 'https://open.spotify.com/artist/7tYKF4w9nC0nq9CsPZTHyP'}\n",
      "Artist:  Sauti Sol Song: \t {'spotify': 'https://open.spotify.com/artist/4Rj9lQm9oSiMlirgpsM6eo'}\n",
      "Artist:  DJ Snake Song: \t {'spotify': 'https://open.spotify.com/artist/540vIaP2JwjQb9dm3aArA4'}\n",
      "Artist:  Justin Bieber Song: \t {'spotify': 'https://open.spotify.com/artist/1uNFoZAHBGtllmzznpCI3s'}\n",
      "Artist:  Kendrick Lamar Song: \t {'spotify': 'https://open.spotify.com/artist/2YZyLoL8N0Wb9xBt1NhZWg'}\n",
      "Artist:  SZA Song: \t {'spotify': 'https://open.spotify.com/artist/7tYKF4w9nC0nq9CsPZTHyP'}\n",
      "Artist:  Njerae Song: \t {'spotify': 'https://open.spotify.com/artist/74HCIpcjuBFnsd7PoYSglQ'}\n",
      "Artist:  Hunter Siegel Song: \t {'spotify': 'https://open.spotify.com/artist/1oip7jt1jaJ5qWFrIOwg6T'}\n",
      "Artist:  Kai Song: \t {'spotify': 'https://open.spotify.com/artist/5ATpNDwaT4vPXxsRhJpCXg'}\n"
     ]
    }
   ],
   "source": [
    "for item in r_obj[\"tracks\"][\"items\"]:\n",
    "    artists = item.get(\"artists\", None)\n",
    "    # print(len(artist))\n",
    "    if artist is not None:\n",
    "        for artist in artists:\n",
    "            # print(type(artist))\n",
    "            # print(artist.keys())\n",
    "            if isinstance(artist, dict):\n",
    "                print(\"Artist: \", artist[\"name\"], \"Song:\", '\\t', artist[\"external_urls\"])"
   ]
  },
  {
   "cell_type": "markdown",
   "id": "d42bea0f-f302-48fe-a90a-29bce8f5617c",
   "metadata": {},
   "source": [
    "<h3 align=center> Artist Profile by ID </h3>"
   ]
  },
  {
   "cell_type": "code",
   "execution_count": null,
   "id": "10e212c6-a9ac-4572-bcc2-ed2dcc1b0b85",
   "metadata": {},
   "outputs": [],
   "source": []
  }
 ],
 "metadata": {
  "kernelspec": {
   "display_name": "Python 3 (ipykernel)",
   "language": "python",
   "name": "python3"
  },
  "language_info": {
   "codemirror_mode": {
    "name": "ipython",
    "version": 3
   },
   "file_extension": ".py",
   "mimetype": "text/x-python",
   "name": "python",
   "nbconvert_exporter": "python",
   "pygments_lexer": "ipython3",
   "version": "3.12.7"
  }
 },
 "nbformat": 4,
 "nbformat_minor": 5
}
